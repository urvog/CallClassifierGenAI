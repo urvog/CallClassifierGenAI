{
 "cells": [
  {
   "cell_type": "code",
   "execution_count": 61,
   "metadata": {},
   "outputs": [],
   "source": [
    "import pandas as pd\n",
    "import numpy as np\n",
    "from langchain import PromptTemplate    \n",
    "from langchain.prompts import ChatPromptTemplate\n",
    "from langchain.chat_models import ChatOpenAI\n",
    "import openai\n",
    "import datetime\n",
    "import random\n",
    "\n",
    "\n",
    "import os\n",
    "os.environ[\"OPENAI_API_KEY\"] = \"XXXXXX\"\n",
    "openai.api_key = os.getenv(\"OPENAI_API_KEY\")\n",
    "OPENAI_MODEL = \"gpt-3.5-turbo-16k-0613\""
   ]
  },
  {
   "attachments": {},
   "cell_type": "markdown",
   "metadata": {},
   "source": [
    "# Initializing LLM Model"
   ]
  },
  {
   "cell_type": "code",
   "execution_count": 52,
   "metadata": {},
   "outputs": [],
   "source": [
    "chat_model = ChatOpenAI(model_name = OPENAI_MODEL, temperature=0.7)"
   ]
  },
  {
   "attachments": {},
   "cell_type": "markdown",
   "metadata": {},
   "source": [
    "# Defining Prompt Templates"
   ]
  },
  {
   "attachments": {},
   "cell_type": "markdown",
   "metadata": {},
   "source": [
    "## Template 1"
   ]
  },
  {
   "cell_type": "code",
   "execution_count": 37,
   "metadata": {},
   "outputs": [],
   "source": [
    "prompt_call = ChatPromptTemplate.from_template(\n",
    "    \"\"\"\n",
    "    The company is a electrical company that provides electrical services to residential and commercial customers.\n",
    "    The name of the company is {company_name}.\n",
    "\n",
    "    Generate a transcript of a call between two people for a call center for a electrical company.\n",
    "\n",
    "    The conversation will be between a customer and a call center agent.\n",
    "\n",
    "    Generate a random name for the customer and for the agent will be agent 1, agent 2 or agent 3.\n",
    "\n",
    "    The customer mood will be: {customer_mood}.\n",
    "\n",
    "    The conversation should be between 5 and 10 minutes long.\n",
    "    \n",
    "    \"\"\"\n",
    ")"
   ]
  },
  {
   "attachments": {},
   "cell_type": "markdown",
   "metadata": {},
   "source": [
    "## Template 2"
   ]
  },
  {
   "cell_type": "code",
   "execution_count": 50,
   "metadata": {},
   "outputs": [],
   "source": [
    "prompt_call_template2 = ChatPromptTemplate.from_template(\n",
    "    \"\"\"\n",
    "    The company is a electrical company that provides electrical services to residential and commercial customers.\n",
    "    The name of the company is {company_name}.\n",
    "\n",
    "    Generate a transcript of a call between two people for a call center for a electrical company.\n",
    "\n",
    "    The conversation will be between a customer and a call center agent.\n",
    "\n",
    "    Generate a random name for the customer and for the agent will be agent 1, agent 2 or agent 3.\n",
    "\n",
    "    The customer mood will be: {customer_mood}.\n",
    "\n",
    "    The conversation should be between 5 and 10 minutes long including some random technical information.\n",
    "    \n",
    "    \"\"\"\n",
    ")"
   ]
  },
  {
   "attachments": {},
   "cell_type": "markdown",
   "metadata": {},
   "source": [
    "## Template 3"
   ]
  },
  {
   "cell_type": "code",
   "execution_count": 58,
   "metadata": {},
   "outputs": [],
   "source": [
    "prompt_call_template3 = ChatPromptTemplate.from_template(\n",
    "    \"\"\"\n",
    "    The company is a electrical company that provides electrical services to residential and commercial customers.\n",
    "    The name of the company is {company_name}.\n",
    "\n",
    "    Generate a transcript of a call between two people for a call center for a electrical company.\n",
    "\n",
    "    The conversation will be between a customer and a call center agent.\n",
    "\n",
    "    Generate a random name for the customer and for the agent will be agent {agent_number}.\n",
    "\n",
    "    The customer mood will be: {customer_mood}.\n",
    "\n",
    "    The conversation should be between 5 and 10 minutes long, but with no resolution to the problem.\n",
    "    \n",
    "    \"\"\"\n",
    ")"
   ]
  },
  {
   "attachments": {},
   "cell_type": "markdown",
   "metadata": {},
   "source": [
    "## Template 4"
   ]
  },
  {
   "cell_type": "code",
   "execution_count": 66,
   "metadata": {},
   "outputs": [],
   "source": [
    "prompt_call_template4 = ChatPromptTemplate.from_template(\n",
    "    \"\"\"\n",
    "    The company is a electrical company that provides electrical services to residential and commercial customers.\n",
    "    The name of the company is {company_name}.\n",
    "\n",
    "    Generate a transcript of a call between two people for a call center for a electrical company.\n",
    "\n",
    "    The conversation will be between a customer and a call center agent.\n",
    "\n",
    "    Generate a random name for the customer and for the agent will be agent {agent_number}.\n",
    "\n",
    "    The customer mood will be: {customer_mood}.\n",
    "\n",
    "    The conversation should be between 5 and 10 minutes long, but with good resolution to the problem.\n",
    "    \n",
    "    \"\"\"\n",
    ")"
   ]
  },
  {
   "attachments": {},
   "cell_type": "markdown",
   "metadata": {},
   "source": [
    "## Template 5"
   ]
  },
  {
   "cell_type": "code",
   "execution_count": 71,
   "metadata": {},
   "outputs": [],
   "source": [
    "prompt_call_template5 = ChatPromptTemplate.from_template(\n",
    "    \"\"\"\n",
    "    The company is a electrical company that provides electrical services to residential and commercial customers.\n",
    "    The name of the company is {company_name}.\n",
    "\n",
    "    Generate a transcript of a call between two people for a call center for a electrical company.\n",
    "\n",
    "    The conversation will be between a customer and a call center agent.\n",
    "\n",
    "    Generate a random name for the customer and for the agent will be agent {agent_number}.\n",
    "\n",
    "    The customer mood will be: {customer_mood}.\n",
    "\n",
    "    The conversation should be between 5 and 10 minutes long, but with a incomplete call.\n",
    "    \n",
    "    \"\"\"\n",
    ")"
   ]
  },
  {
   "attachments": {},
   "cell_type": "markdown",
   "metadata": {},
   "source": [
    "# Call Templates"
   ]
  },
  {
   "cell_type": "code",
   "execution_count": 38,
   "metadata": {},
   "outputs": [
    {
     "data": {
      "text/plain": [
       "[HumanMessage(content='\\n    The company is a electrical company that provides electrical services to residential and commercial customers.\\n    The name of the company is ElectricVolt.\\n\\n    Generate a transcript of a call between two people for a call center for a electrical company.\\n\\n    The conversation will be between a customer and a call center agent.\\n\\n    Generate a random name for the customer and for the agent will be agent 1, agent 2 and agent 3.\\n\\n    The customer mood will be: neutral.\\n\\n    The conversation should be between 5 and 10 minutes long.\\n    \\n    ', additional_kwargs={}, example=False)]"
      ]
     },
     "execution_count": 38,
     "metadata": {},
     "output_type": "execute_result"
    }
   ],
   "source": [
    "call1 = prompt_call.format_messages(company_name=\"ElectricVolt\", customer_mood=\"neutral\")\n",
    "print(call1)\n",
    "\n",
    "calls_list = []\n",
    "for i in range(20):\n",
    "    print(\"Generating Call Transcript #\", i)\n",
    "    response = chat_model(call1)\n",
    "    calls_list.append(response.content)\n"
   ]
  },
  {
   "cell_type": "code",
   "execution_count": 56,
   "metadata": {},
   "outputs": [
    {
     "data": {
      "text/plain": [
       "[HumanMessage(content='\\n    The company is a electrical company that provides electrical services to residential and commercial customers.\\n    The name of the company is ElectricVolt.\\n\\n    Generate a transcript of a call between two people for a call center for a electrical company.\\n\\n    The conversation will be between a customer and a call center agent.\\n\\n    Generate a random name for the customer and for the agent will be agent 1, agent 2 and agent 3.\\n\\n    The customer mood will be: angry.\\n\\n    The conversation should be between 5 and 10 minutes long including some random technical information.\\n    \\n    ', additional_kwargs={}, example=False)]"
      ]
     },
     "execution_count": 56,
     "metadata": {},
     "output_type": "execute_result"
    }
   ],
   "source": [
    "call2 = prompt_call_template2.format_messages(company_name=\"ElectricVolt\", customer_mood=\"angry\")\n",
    "print(call2)\n",
    "\n",
    "calls_list = []\n",
    "for i in range(20):\n",
    "    print(\"Generating Call Transcript #\", i)\n",
    "    response = chat_model(call2)\n",
    "    calls_list.append(response.content)\n",
    "\n"
   ]
  },
  {
   "cell_type": "code",
   "execution_count": 74,
   "metadata": {},
   "outputs": [
    {
     "name": "stdout",
     "output_type": "stream",
     "text": [
      "Generating Call Transcript # 0\n",
      "Generating Call Transcript # 1\n",
      "Generating Call Transcript # 2\n",
      "Generating Call Transcript # 3\n",
      "Generating Call Transcript # 4\n",
      "Generating Call Transcript # 5\n",
      "Generating Call Transcript # 6\n",
      "Generating Call Transcript # 7\n",
      "Generating Call Transcript # 8\n",
      "Generating Call Transcript # 9\n",
      "Generating Call Transcript # 10\n",
      "Generating Call Transcript # 11\n",
      "Generating Call Transcript # 12\n",
      "Generating Call Transcript # 13\n",
      "Generating Call Transcript # 14\n",
      "Generating Call Transcript # 15\n",
      "Generating Call Transcript # 16\n",
      "Generating Call Transcript # 17\n",
      "Generating Call Transcript # 18\n",
      "Generating Call Transcript # 19\n"
     ]
    }
   ],
   "source": [
    "calls_list = []\n",
    "for i in range(20):\n",
    "    #generaintg random agent number from 1 \n",
    "    agent_number = random.randint(1,3)\n",
    "    call3 = prompt_call_template3.format_messages(company_name=\"ElectricVolt\", customer_mood=\"neutral\", agent_number=agent_number)\n",
    "    \n",
    "    print(\"Generating Call Transcript #\", i)\n",
    "    response = chat_model(call3)\n",
    "    calls_list.append(response.content)\n",
    "\n",
    "# Saving the generated calls to a file\n",
    "df_calls = pd.DataFrame(calls_list)\n",
    "\n",
    "now = datetime.datetime.now()\n",
    "\n",
    "#change now to string with format YYYYMMDDhhmmss\n",
    "now = now.strftime(\"%Y%m%d%H%M%S\")\n",
    "\n",
    "df_calls.to_csv('../../data/calls'+now+'.csv', index=False)"
   ]
  },
  {
   "cell_type": "code",
   "execution_count": 75,
   "metadata": {},
   "outputs": [
    {
     "name": "stdout",
     "output_type": "stream",
     "text": [
      "Generating Call Transcript # 0\n",
      "Generating Call Transcript # 1\n",
      "Generating Call Transcript # 2\n",
      "Generating Call Transcript # 3\n",
      "Generating Call Transcript # 4\n",
      "Generating Call Transcript # 5\n",
      "Generating Call Transcript # 6\n",
      "Generating Call Transcript # 7\n",
      "Generating Call Transcript # 8\n",
      "Generating Call Transcript # 9\n",
      "Generating Call Transcript # 10\n",
      "Generating Call Transcript # 11\n",
      "Generating Call Transcript # 12\n",
      "Generating Call Transcript # 13\n",
      "Generating Call Transcript # 14\n",
      "Generating Call Transcript # 15\n",
      "Generating Call Transcript # 16\n",
      "Generating Call Transcript # 17\n",
      "Generating Call Transcript # 18\n",
      "Generating Call Transcript # 19\n"
     ]
    }
   ],
   "source": [
    "calls_list = []\n",
    "for i in range(20):\n",
    "    #generaintg random agent number from 1 \n",
    "    agent_number = random.randint(1,3)\n",
    "    call4 = prompt_call_template4.format_messages(company_name=\"ElectricVolt\", customer_mood=\"happy\", agent_number=agent_number)\n",
    "    \n",
    "    print(\"Generating Call Transcript #\", i)\n",
    "    response = chat_model(call4)\n",
    "    calls_list.append(response.content)\n",
    "\n",
    "df_calls = pd.DataFrame(calls_list)\n",
    "now = datetime.datetime.now()\n",
    "\n",
    "#change now to string with format YYYYMMDDhhmmss\n",
    "now = now.strftime(\"%Y%m%d%H%M%S\")\n",
    "df_calls.to_csv('../../data/calls'+now+'.csv', index=False)"
   ]
  },
  {
   "cell_type": "code",
   "execution_count": 76,
   "metadata": {},
   "outputs": [
    {
     "name": "stdout",
     "output_type": "stream",
     "text": [
      "Generating Call Transcript # 0\n",
      "Generating Call Transcript # 1\n",
      "Generating Call Transcript # 2\n",
      "Generating Call Transcript # 3\n",
      "Generating Call Transcript # 4\n",
      "Generating Call Transcript # 5\n",
      "Generating Call Transcript # 6\n",
      "Generating Call Transcript # 7\n",
      "Generating Call Transcript # 8\n",
      "Generating Call Transcript # 9\n",
      "Generating Call Transcript # 10\n",
      "Generating Call Transcript # 11\n",
      "Generating Call Transcript # 12\n",
      "Generating Call Transcript # 13\n",
      "Generating Call Transcript # 14\n",
      "Generating Call Transcript # 15\n",
      "Generating Call Transcript # 16\n",
      "Generating Call Transcript # 17\n",
      "Generating Call Transcript # 18\n",
      "Generating Call Transcript # 19\n"
     ]
    }
   ],
   "source": [
    "calls_list = []\n",
    "for i in range(20):\n",
    "    #generaintg random agent number from 1 \n",
    "    agent_number = random.randint(1,3)\n",
    "    call5 = prompt_call_template4.format_messages(company_name=\"ElectricVolt\", customer_mood=\"neutral\", agent_number=agent_number)\n",
    "    \n",
    "    print(\"Generating Call Transcript #\", i)\n",
    "    response = chat_model(call5)\n",
    "    calls_list.append(response.content)\n",
    "\n",
    "df_calls = pd.DataFrame(calls_list)\n",
    "now = datetime.datetime.now()\n",
    "\n",
    "#change now to string with format YYYYMMDDhhmmss\n",
    "now = now.strftime(\"%Y%m%d%H%M%S\")\n",
    "df_calls.to_csv('../../data/calls'+now+'.csv', index=False)"
   ]
  },
  {
   "attachments": {},
   "cell_type": "markdown",
   "metadata": {},
   "source": [
    "# Saving Transcripts"
   ]
  },
  {
   "cell_type": "code",
   "execution_count": 69,
   "metadata": {},
   "outputs": [],
   "source": []
  },
  {
   "cell_type": "code",
   "execution_count": null,
   "metadata": {},
   "outputs": [],
   "source": []
  }
 ],
 "metadata": {
  "kernelspec": {
   "display_name": "envCogniCall",
   "language": "python",
   "name": "python3"
  },
  "language_info": {
   "codemirror_mode": {
    "name": "ipython",
    "version": 3
   },
   "file_extension": ".py",
   "mimetype": "text/x-python",
   "name": "python",
   "nbconvert_exporter": "python",
   "pygments_lexer": "ipython3",
   "version": "3.11.4"
  },
  "orig_nbformat": 4,
  "vscode": {
   "interpreter": {
    "hash": "229d80fa530c37c34f0bd5201900c082518993d9e833812a687e064e8f1421fb"
   }
  }
 },
 "nbformat": 4,
 "nbformat_minor": 2
}
