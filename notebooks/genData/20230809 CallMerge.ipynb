{
 "cells": [
  {
   "cell_type": "code",
   "execution_count": 2,
   "metadata": {},
   "outputs": [],
   "source": [
    "import pandas as pd\n",
    "import numpy as np\n",
    "import os"
   ]
  },
  {
   "cell_type": "code",
   "execution_count": 11,
   "metadata": {},
   "outputs": [
    {
     "data": {
      "text/html": [
       "<div>\n",
       "<style scoped>\n",
       "    .dataframe tbody tr th:only-of-type {\n",
       "        vertical-align: middle;\n",
       "    }\n",
       "\n",
       "    .dataframe tbody tr th {\n",
       "        vertical-align: top;\n",
       "    }\n",
       "\n",
       "    .dataframe thead th {\n",
       "        text-align: right;\n",
       "    }\n",
       "</style>\n",
       "<table border=\"1\" class=\"dataframe\">\n",
       "  <thead>\n",
       "    <tr style=\"text-align: right;\">\n",
       "      <th></th>\n",
       "      <th>Transcript</th>\n",
       "      <th>Date</th>\n",
       "    </tr>\n",
       "  </thead>\n",
       "  <tbody>\n",
       "    <tr>\n",
       "      <th>0</th>\n",
       "      <td>Agent 1: Thank you for calling ElectricVolt. T...</td>\n",
       "      <td>2022-01-01 00:00:00.000000000</td>\n",
       "    </tr>\n",
       "    <tr>\n",
       "      <th>1</th>\n",
       "      <td>Agent 2: Thank you for calling ElectricVolt, m...</td>\n",
       "      <td>2022-01-02 12:33:08.284518828</td>\n",
       "    </tr>\n",
       "    <tr>\n",
       "      <th>2</th>\n",
       "      <td>Agent 2: Thank you for calling ElectricVolt. M...</td>\n",
       "      <td>2022-01-04 01:06:16.569037656</td>\n",
       "    </tr>\n",
       "    <tr>\n",
       "      <th>3</th>\n",
       "      <td>Agent 3: Thank you for calling ElectricVolt, m...</td>\n",
       "      <td>2022-01-05 13:39:24.853556485</td>\n",
       "    </tr>\n",
       "    <tr>\n",
       "      <th>4</th>\n",
       "      <td>Agent 1: Thank you for calling ElectricVolt, m...</td>\n",
       "      <td>2022-01-07 02:12:33.138075313</td>\n",
       "    </tr>\n",
       "    <tr>\n",
       "      <th>...</th>\n",
       "      <td>...</td>\n",
       "      <td>...</td>\n",
       "    </tr>\n",
       "    <tr>\n",
       "      <th>15</th>\n",
       "      <td>Agent 1: Thank you for calling ElectricVolt, m...</td>\n",
       "      <td>2022-12-24 21:47:26.861924688</td>\n",
       "    </tr>\n",
       "    <tr>\n",
       "      <th>16</th>\n",
       "      <td>Agent 1: Thank you for calling ElectricVolt. M...</td>\n",
       "      <td>2022-12-26 10:20:35.146443516</td>\n",
       "    </tr>\n",
       "    <tr>\n",
       "      <th>17</th>\n",
       "      <td>[Phone ringing]\\n\\nAgent 1: Thank you for call...</td>\n",
       "      <td>2022-12-27 22:53:43.430962344</td>\n",
       "    </tr>\n",
       "    <tr>\n",
       "      <th>18</th>\n",
       "      <td>Agent 1: Thank you for calling ElectricVolt. M...</td>\n",
       "      <td>2022-12-29 11:26:51.715481172</td>\n",
       "    </tr>\n",
       "    <tr>\n",
       "      <th>19</th>\n",
       "      <td>Agent 1: Thank you for calling ElectricVolt. M...</td>\n",
       "      <td>2022-12-31 00:00:00.000000000</td>\n",
       "    </tr>\n",
       "  </tbody>\n",
       "</table>\n",
       "<p>240 rows × 2 columns</p>\n",
       "</div>"
      ],
      "text/plain": [
       "                                           Transcript  \\\n",
       "0   Agent 1: Thank you for calling ElectricVolt. T...   \n",
       "1   Agent 2: Thank you for calling ElectricVolt, m...   \n",
       "2   Agent 2: Thank you for calling ElectricVolt. M...   \n",
       "3   Agent 3: Thank you for calling ElectricVolt, m...   \n",
       "4   Agent 1: Thank you for calling ElectricVolt, m...   \n",
       "..                                                ...   \n",
       "15  Agent 1: Thank you for calling ElectricVolt, m...   \n",
       "16  Agent 1: Thank you for calling ElectricVolt. M...   \n",
       "17  [Phone ringing]\\n\\nAgent 1: Thank you for call...   \n",
       "18  Agent 1: Thank you for calling ElectricVolt. M...   \n",
       "19  Agent 1: Thank you for calling ElectricVolt. M...   \n",
       "\n",
       "                            Date  \n",
       "0  2022-01-01 00:00:00.000000000  \n",
       "1  2022-01-02 12:33:08.284518828  \n",
       "2  2022-01-04 01:06:16.569037656  \n",
       "3  2022-01-05 13:39:24.853556485  \n",
       "4  2022-01-07 02:12:33.138075313  \n",
       "..                           ...  \n",
       "15 2022-12-24 21:47:26.861924688  \n",
       "16 2022-12-26 10:20:35.146443516  \n",
       "17 2022-12-27 22:53:43.430962344  \n",
       "18 2022-12-29 11:26:51.715481172  \n",
       "19 2022-12-31 00:00:00.000000000  \n",
       "\n",
       "[240 rows x 2 columns]"
      ]
     },
     "execution_count": 11,
     "metadata": {},
     "output_type": "execute_result"
    }
   ],
   "source": [
    "#importing data\n",
    "\n",
    "#list of all the files from ../../data\n",
    "files = os.listdir(\"../../data\")\n",
    "\n",
    "#iterating through the files and appending them to a dataframe\n",
    "df = pd.DataFrame()\n",
    "for file in files:\n",
    "    if file.endswith(\".csv\"):\n",
    "        #concatenating the dataframes\n",
    "        df = pd.concat([df, pd.read_csv(\"../../data/\"+file)])\n",
    "\n",
    "\n",
    "#generating a list of 240 rows of random dates for year 2022\n",
    "dates = pd.date_range(start='2022-01-01', end='2022-12-31', periods=240)\n",
    "\n",
    "df.columns = ['Transcript']\n",
    "\n",
    "#adding a column of random dates to the dataframe\n",
    "df['Date'] = dates\n",
    "df"
   ]
  },
  {
   "cell_type": "code",
   "execution_count": 12,
   "metadata": {},
   "outputs": [],
   "source": [
    "#saving data\n",
    "df.to_csv(\"../../data/transcripts_2022.csv\", index=False)"
   ]
  },
  {
   "cell_type": "code",
   "execution_count": null,
   "metadata": {},
   "outputs": [],
   "source": []
  }
 ],
 "metadata": {
  "kernelspec": {
   "display_name": "envCogniCall",
   "language": "python",
   "name": "python3"
  },
  "language_info": {
   "codemirror_mode": {
    "name": "ipython",
    "version": 3
   },
   "file_extension": ".py",
   "mimetype": "text/x-python",
   "name": "python",
   "nbconvert_exporter": "python",
   "pygments_lexer": "ipython3",
   "version": "3.11.4"
  },
  "orig_nbformat": 4,
  "vscode": {
   "interpreter": {
    "hash": "229d80fa530c37c34f0bd5201900c082518993d9e833812a687e064e8f1421fb"
   }
  }
 },
 "nbformat": 4,
 "nbformat_minor": 2
}
